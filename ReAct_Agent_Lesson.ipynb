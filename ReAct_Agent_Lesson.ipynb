{
  "nbformat": 4,
  "nbformat_minor": 0,
  "metadata": {
    "colab": {
      "provenance": [],
      "include_colab_link": true
    },
    "kernelspec": {
      "name": "python3",
      "display_name": "Python 3"
    },
    "language_info": {
      "name": "python"
    }
  },
  "cells": [
    {
      "cell_type": "markdown",
      "metadata": {
        "id": "view-in-github",
        "colab_type": "text"
      },
      "source": [
        "<a href=\"https://colab.research.google.com/github/AbrerAsif07/AbrerAsif07/blob/main/ReAct_Agent_Lesson.ipynb\" target=\"_parent\"><img src=\"https://colab.research.google.com/assets/colab-badge.svg\" alt=\"Open In Colab\"/></a>"
      ]
    },
    {
      "cell_type": "code",
      "source": [
        "# Define the calculator tool\n",
        "\n",
        "from sympy import sympify\n",
        "def calculator(expression):\n",
        "    try:\n",
        "        result = sympify(expression)\n",
        "        return result\n",
        "    except Exception as e:\n",
        "        return f\"Error in calculation: {e}\""
      ],
      "metadata": {
        "id": "Tcq_YOHaFGNN"
      },
      "execution_count": null,
      "outputs": []
    },
    {
      "cell_type": "code",
      "source": [
        "calculator(\"1*2*3*4*5\")"
      ],
      "metadata": {
        "colab": {
          "base_uri": "https://localhost:8080/",
          "height": 37
        },
        "id": "6A5eyvoIFIPI",
        "outputId": "5f0c33b9-650f-4e8e-c4e9-36d497f6b8c9"
      },
      "execution_count": null,
      "outputs": [
        {
          "output_type": "execute_result",
          "data": {
            "text/plain": [
              "120"
            ],
            "text/latex": "$\\displaystyle 120$"
          },
          "metadata": {},
          "execution_count": 29
        }
      ]
    },
    {
      "cell_type": "code",
      "source": [
        "import re\n",
        "\n",
        "def extract_action_and_input(text):\n",
        "  action = re.search(r\"Action: (.*)\", text)\n",
        "  action_input = re.search(r\"Action Input: (.*)\", text)\n",
        "  return action.group(1).strip() if action else None, action_input.group(1).strip() if action else None\n",
        "\n",
        "extract_action_and_input(\"\"\"\n",
        "Thought: To calculate the square root of 144, I can use the math library in Python or a calculator.\n",
        "\n",
        "Action: Calculator\n",
        "Action Input: sqrt(144)\n",
        "\"\"\")"
      ],
      "metadata": {
        "colab": {
          "base_uri": "https://localhost:8080/"
        },
        "id": "CAKngNOyGnQE",
        "outputId": "74fd3017-8074-45a9-b6bc-079d47a2ae40"
      },
      "execution_count": null,
      "outputs": [
        {
          "output_type": "execute_result",
          "data": {
            "text/plain": [
              "('Calculator', 'sqrt(144)')"
            ]
          },
          "metadata": {},
          "execution_count": 53
        }
      ]
    },
    {
      "cell_type": "code",
      "source": [
        "from google.colab import userdata\n",
        "\n",
        "from openai import OpenAI\n",
        "\n",
        "client = OpenAI(\n",
        "  base_url=\"https://openrouter.ai/api/v1\",\n",
        "  api_key=userdata.get('OPENROUTER_API_KEY'),\n",
        ")\n",
        "\n",
        "user_prompt = \"Calculate the square root of 144\"\n",
        "\n",
        "chat_history = [\n",
        "    {\n",
        "      \"role\": \"system\",\n",
        "      \"content\": \"\"\"\n",
        "      You have access to the following tools:\n",
        "      Calculator: Use this when you want to do math. Use SymPy expressions, eg: 2 + 2\n",
        "\n",
        "      Use the following format:\n",
        "\n",
        "      Question: the input question you must answer\n",
        "      Thought: you should always think about what to do\n",
        "      Action: the action to take, should be one of [Calculator]\n",
        "      Action Input: the input to the action\n",
        "      Observation: the result of teh action\n",
        "      ... (the Thought/Action/Observation can repeat any number of times)\n",
        "      Thought: I now know the final answer!\n",
        "      Final Answer: the answer to the original input question\n",
        "      \"\"\"\n",
        "    },\n",
        "    {\n",
        "      \"role\": \"user\",\n",
        "      \"content\": f\"Question: {user_prompt}\"\n",
        "    }\n",
        "  ]\n",
        "\n",
        "import re\n",
        "\n",
        "while True:\n",
        "  completion = client.chat.completions.create(\n",
        "    model=\"meta-llama/llama-3.2-90b-vision-instruct:free\",\n",
        "    messages=chat_history,\n",
        "    stop=[\"Observation:\"]\n",
        "  )\n",
        "  response_text = completion.choices[0].message.content\n",
        "  action, action_input = extract_action_and_input(response_text)\n",
        "  print(response_text)\n",
        "  # We want to see if the LLM took an action\n",
        "  if action == \"Calculator\":\n",
        "    action_result = calculator(action_input)\n",
        "    print(f\"Observation: {action_result}\")\n",
        "    chat_history.extend([\n",
        "      { \"role\": \"assistant\", \"content\": response_text },\n",
        "      { \"role\": \"user\", \"content\": f\"Observation: {action_result}\" }\n",
        "    ])\n",
        "  else:\n",
        "    break"
      ],
      "metadata": {
        "colab": {
          "base_uri": "https://localhost:8080/"
        },
        "id": "_RdtNt8S_ujz",
        "outputId": "faeadf1a-8c02-40cd-ba6e-1c03e7ef04d4"
      },
      "execution_count": null,
      "outputs": [
        {
          "output_type": "stream",
          "name": "stdout",
          "text": [
            "Thought: To find the square root of 144, I'll use the calculator.\n",
            "\n",
            "Action: Calculator \n",
            "Action Input: SymPy.sqrt(144)\n",
            "\n",
            "Observation: Error in calculation: 'Symbol' object has no attribute 'sqrt'\n",
            "Thought: It seems that SymPy isn't available for this action, I'll use a different method.\n",
            "\n",
            "Action: Calculator \n",
            "Action Input: 144 ** 0.5\n",
            "Observation: 12.0000000000000\n",
            "Thought: I now know the final answer!\n",
            "\n",
            "Final Answer: The square root of 144 is 12.\n"
          ]
        }
      ]
    },
    {
      "cell_type": "code",
      "source": [
        "print(response_text)"
      ],
      "metadata": {
        "colab": {
          "base_uri": "https://localhost:8080/"
        },
        "id": "MjYvCFStEATW",
        "outputId": "6d8772f2-c939-416e-80a6-45e4a5c9a2b5"
      },
      "execution_count": null,
      "outputs": [
        {
          "output_type": "stream",
          "name": "stdout",
          "text": [
            "Thought: To calculate the square root of 144, I can use the math library in Python or a calculator.\n",
            "\n",
            "Action: Calculator \n",
            "Action Input: sqrt(144) \n",
            "\n",
            "\n"
          ]
        }
      ]
    },
    {
      "cell_type": "code",
      "source": [
        "calculator(\"sqrt(144)\")"
      ],
      "metadata": {
        "colab": {
          "base_uri": "https://localhost:8080/",
          "height": 37
        },
        "id": "OdXTSyY2FYQ4",
        "outputId": "4ddc3c75-d49b-4c58-a556-93ae101883ac"
      },
      "execution_count": null,
      "outputs": [
        {
          "output_type": "execute_result",
          "data": {
            "text/plain": [
              "12"
            ],
            "text/latex": "$\\displaystyle 12$"
          },
          "metadata": {},
          "execution_count": 36
        }
      ]
    },
    {
      "cell_type": "code",
      "source": [
        "chat_history"
      ],
      "metadata": {
        "colab": {
          "base_uri": "https://localhost:8080/"
        },
        "id": "5VOPjl7WBOJt",
        "outputId": "7c23b09a-62dd-4728-c019-862537307d3c"
      },
      "execution_count": null,
      "outputs": [
        {
          "output_type": "execute_result",
          "data": {
            "text/plain": [
              "[{'role': 'system',\n",
              "  'content': '\\n      You have access to the following tools:\\n      Knife\\n      Machete\\n      Chainsaw\\n      Rubber band\\n\\n      Use the following format:\\n\\n      Question: the input question you must answer\\n      Thought: you should always think about what to do\\n      Action: the action to take, should be one of [Knife, Machete, Chainsaw, Rubber band]\\n      '},\n",
              " {'role': 'user',\n",
              "  'content': '\\n      Question: I want to open a present.\\n      '}]"
            ]
          },
          "metadata": {},
          "execution_count": 17
        }
      ]
    },
    {
      "cell_type": "code",
      "source": [
        "chat_history.extend([\n",
        "    { \"role\": \"assistant\", \"content\": response_text },\n",
        "    { \"role\": \"user\", \"content\": \"Observation: The knife did not work! A tree has fallen down between you and the present.\" }\n",
        "])"
      ],
      "metadata": {
        "id": "D0wtmVoMA2xJ"
      },
      "execution_count": null,
      "outputs": []
    },
    {
      "cell_type": "code",
      "source": [
        "chat_history"
      ],
      "metadata": {
        "colab": {
          "base_uri": "https://localhost:8080/"
        },
        "id": "tCy3idtKBqJS",
        "outputId": "0a449825-33f6-4282-a0da-72c97b7ccf32"
      },
      "execution_count": null,
      "outputs": [
        {
          "output_type": "execute_result",
          "data": {
            "text/plain": [
              "[{'role': 'system',\n",
              "  'content': '\\n      You have access to the following tools:\\n      Knife\\n      Machete\\n      Chainsaw\\n      Rubber band\\n\\n      Use the following format:\\n\\n      Question: the input question you must answer\\n      Thought: you should always think about what to do\\n      Action: the action to take, should be one of [Knife, Machete, Chainsaw, Rubber band]\\n      '},\n",
              " {'role': 'user',\n",
              "  'content': '\\n      Question: I want to open a present.\\n      '},\n",
              " {'role': 'assistant',\n",
              "  'content': 'Thought: I need to carefully remove the wrapping without damaging the gift. The wrapping is likely held in place with tape or by being wrapped tightly around the gift.\\n\\nAction: Rubber band (or if not using a elastic wrapping, then Knife).'},\n",
              " {'role': 'user',\n",
              "  'content': 'Observation: The knife did not work! A tree has fallen down between you and the present.'}]"
            ]
          },
          "metadata": {},
          "execution_count": 19
        }
      ]
    },
    {
      "cell_type": "code",
      "source": [
        "completion = client.chat.completions.create(\n",
        "  model=\"meta-llama/llama-3.2-90b-vision-instruct:free\",\n",
        "  messages=chat_history\n",
        ")\n",
        "response_text = completion.choices[0].message.content"
      ],
      "metadata": {
        "id": "zD2jqd1YB5xN"
      },
      "execution_count": null,
      "outputs": []
    },
    {
      "cell_type": "code",
      "source": [
        "response_text"
      ],
      "metadata": {
        "colab": {
          "base_uri": "https://localhost:8080/",
          "height": 35
        },
        "id": "vf1qNkMaB8YY",
        "outputId": "95bfa67b-8a1b-4434-9390-ccb6b4d7b7a6"
      },
      "execution_count": null,
      "outputs": [
        {
          "output_type": "execute_result",
          "data": {
            "text/plain": [
              "'Action: Chainsaw'"
            ],
            "application/vnd.google.colaboratory.intrinsic+json": {
              "type": "string"
            }
          },
          "metadata": {},
          "execution_count": 15
        }
      ]
    }
  ]
}